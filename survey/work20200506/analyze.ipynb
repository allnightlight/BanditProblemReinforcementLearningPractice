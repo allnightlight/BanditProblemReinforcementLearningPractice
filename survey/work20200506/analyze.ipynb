{
 "cells": [
  {
   "cell_type": "code",
   "execution_count": 1,
   "metadata": {},
   "outputs": [],
   "source": [
    "import sys\n",
    "sys.path.append(\"../../concrete/\")\n",
    "sys.path.append(\"../../framework/\")\n",
    "\n",
    "import glob\n",
    "import os\n",
    "import numpy as np\n",
    "import matplotlib.pylab as plt"
   ]
  },
  {
   "cell_type": "code",
   "execution_count": 2,
   "metadata": {},
   "outputs": [],
   "source": [
    "from ConcStore import ConcStore\n",
    "from ConcAgentFactory import ConcAgentFactory\n",
    "from framework import TrainId\n",
    "from framework import StoreField"
   ]
  },
  {
   "cell_type": "code",
   "execution_count": 3,
   "metadata": {},
   "outputs": [],
   "source": [
    "store = ConcStore()\n",
    "agentFactory = ConcAgentFactory()"
   ]
  },
  {
   "cell_type": "code",
   "execution_count": 9,
   "metadata": {},
   "outputs": [
    {
     "name": "stdout",
     "output_type": "stream",
     "text": [
      " 7874/7875"
     ]
    }
   ],
   "source": [
    "trainedRecords = glob.glob(\"./trainLog/*\")\n",
    "lines = [\"itr,lever,agent,prob\",]\n",
    "\n",
    "for k1, trainedRecord in enumerate(trainedRecords):\n",
    "    sys.stdout.write(\"\\r %04d/%04d\" % (k1, len(trainedRecords)))\n",
    "    trainIdStr = os.path.basename(trainedRecord)\n",
    "\n",
    "    # \n",
    "    trainId = TrainId(trainIdStr)\n",
    "    storeField = store.load(trainId)\n",
    "    #\n",
    "    timeSimulation = storeField.getTimeSimulation()\n",
    "    buildOrder = storeField.getBuildOrder()\n",
    "    agentMemento = storeField.getAgentMemento()\n",
    "    timestamp = storeField.getTimeStamp()\n",
    "    agent = agentFactory.create(buildOrder)\n",
    "    agent.loadFromMemento(agentMemento)\n",
    "\n",
    "    action = agent(None)\n",
    "    prob = action.getValue().numpy() # (1, nLevers)\n",
    "\n",
    "    for k2, p in enumerate(prob[0,:]):\n",
    "        line = \"{0},{1},{2},{3}\".format( \n",
    "            timeSimulation,\n",
    "            k2+1,\n",
    "            buildOrder.getDescription(),\n",
    "            p\n",
    "            )\n",
    "        lines.append(line)"
   ]
  },
  {
   "cell_type": "code",
   "execution_count": 10,
   "metadata": {},
   "outputs": [],
   "source": [
    "with open(\"data.csv\", \"w\") as fp:\n",
    "    fp.write(\"\\n\".join(lines))"
   ]
  }
 ],
 "metadata": {
  "kernelspec": {
   "display_name": "Python 3",
   "language": "python",
   "name": "python3"
  },
  "language_info": {
   "codemirror_mode": {
    "name": "ipython",
    "version": 3
   },
   "file_extension": ".py",
   "mimetype": "text/x-python",
   "name": "python",
   "nbconvert_exporter": "python",
   "pygments_lexer": "ipython3",
   "version": "3.6.9"
  }
 },
 "nbformat": 4,
 "nbformat_minor": 2
}
